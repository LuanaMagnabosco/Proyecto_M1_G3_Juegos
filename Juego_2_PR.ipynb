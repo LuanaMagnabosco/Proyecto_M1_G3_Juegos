{
 "cells": [
  {
   "cell_type": "markdown",
   "metadata": {},
   "source": [
    "JUEGO 2: PREGUNTAS Y RESPUESTAS GEOGRAFÍA DE ESPAÑA"
   ]
  },
  {
   "cell_type": "markdown",
   "metadata": {},
   "source": [
    "Diccionario con preguntas y respuestas"
   ]
  },
  {
   "cell_type": "code",
   "execution_count": 15,
   "metadata": {},
   "outputs": [],
   "source": [
    "preguntas = {\n",
    "            \"El pico más alto de España peninsular es el Mulhacén?\" : \"verdadero\",\n",
    "            \"El Pico Viejo es el segundo pico más alto de España?\": \"verdadero\", \n",
    "            \"Tiene 2 ciudades autónomas ?\": \"verdadero\",\n",
    "            \"Es el rio Tajo el más largo de los ríos de España ?\" : \"verdadero\", \n",
    "            \"Es el río Ebro el más caudoloso?\": \"verdadero\",\n",
    "            \"El Pico del Teide es un volcán?\": \"verdadero\",\n",
    "            \"El Río Guadalquivir se encuentra en Andalucía?\": \"verdadero\",\n",
    "            \"Oviedo se encuentra en Asturias?\": \"verdadero\",\n",
    "            \"Tiene 45 provincias?\" : \"falso\", \n",
    "            \"Tiene 15 comunidades autónomas ?\": \"falso\", \n",
    "            \"La ciudad de las Artes y las Ciencias está en Barcelona?\": \"falso\",\n",
    "            \"La Sagrada Familia se encuentra en Madrid?\": \"falso\",\n",
    "            \"El Palacio de Cristal se encuentra en Valencia?\": \"falso\",\n",
    "            \"Los tres picos más altos de España se encuentran fuera de la península?\" : \"falso\", \n",
    "            \"Lugo está en Asturias?\": \"falso\",\n",
    "            \"Cantabria está en el País Vasco?\": \"falso\",\n",
    "}"
   ]
  },
  {
   "cell_type": "code",
   "execution_count": 16,
   "metadata": {},
   "outputs": [],
   "source": [
    "import random \n",
    "\n",
    "#el parámetro dict por si se quiere jugar con un diccionario diferente\n",
    "def seleccion(dict):\n",
    "    #pasar a lista el dict para poder guardar por un lado la pregunta y por otro lado la respuesta\n",
    "    lista = list(dict.items())\n",
    "    #elección aleatoria de la pregunta    \n",
    "    pregunta = random.choice(lista)\n",
    "    respuesta = pregunta[1]\n",
    "    #como trabajamos con lista, que se guarde la pregunta por un lado y la respuesta por otro\n",
    "    return pregunta[0], respuesta \n"
   ]
  },
  {
   "cell_type": "code",
   "execution_count": 23,
   "metadata": {},
   "outputs": [
    {
     "name": "stdout",
     "output_type": "stream",
     "text": [
      "-------------------------\n",
      "franca pregunta número: 1\n",
      "El pico más alto de España peninsular es el Mulhacén?\n",
      "Tu respuesta: verdadero.\n",
      " Respuesta correcta\n",
      "-------------------------\n",
      "franca pregunta número: 2\n",
      "Lugo está en Asturias?\n",
      "Tu respuesta: falso.\n",
      " Respuesta correcta\n",
      "-------------------------\n",
      "franca pregunta número: 3\n",
      "Lugo está en Asturias?\n",
      "Tu respuesta: falso.\n",
      " Respuesta correcta\n",
      "-------------------------\n",
      "franca pregunta número: 4\n",
      "Tiene 15 comunidades autónomas ?\n",
      "Tu respuesta: falso.\n",
      " Respuesta correcta\n",
      "-------------------------\n",
      "franca pregunta número: 5\n",
      "Es el río Ebro el más caudoloso?\n",
      "Tu respuesta: verdadero.\n",
      " Respuesta correcta\n",
      "------------------\n",
      "El juego terminó!\n",
      "Enhorabuena franca! Has ganado el juego.\n",
      "Tu resultado es el siguiente: \n",
      " Preguntas correctas: 5\n",
      " Preguntas incorrectas: 0.\n"
     ]
    }
   ],
   "source": [
    "nombre = input(\"Ingresa tu nombre\")\n",
    "correcta = 0\n",
    "incorrecta = 0\n",
    "partida = 0\n",
    "opcion = [\"verdadero\", \"falso\"]\n",
    "\n",
    "#mientras las respuestas correctas sean menos de 5 y las incorrectas menos de 3\n",
    "while (correcta < 5) and (incorrecta < 3):\n",
    "    pregunta, respuesta = seleccion(preguntas)\n",
    "    #conteo de partidas\n",
    "    partida += 1\n",
    "    print(\"-------------------------\")\n",
    "    #imprime la cantidad de partidas escondida en números de preguntas\n",
    "    print(f\"{nombre} pregunta número: {partida}\")\n",
    "    print(pregunta)\n",
    "    jugador = (input(\"Verdadero o falso?: \").lower())\n",
    "    #verificar que esté bien escrito, comparando con la lista opciones\n",
    "    if jugador not in opcion:\n",
    "        escrito_bien = input(f\"{nombre},Vuelve a intentarlo. Ingresa verdadero o falso\").lower()\n",
    "        if escrito_bien == respuesta:\n",
    "            print(f\"Tu respuesta: {escrito_bien}.\\n Respuesta correcta\")\n",
    "            correcta += 1\n",
    "        else:\n",
    "            print(f\"Tu respuesta: {escrito_bien}. \\n Respuesta incorrecta\")\n",
    "            incorrecta += 1       \n",
    "    #si el jugador acierta la respuesta\n",
    "    elif jugador == respuesta:\n",
    "        print(f\"Tu respuesta: {jugador}.\\n Respuesta correcta\")\n",
    "        correcta += 1\n",
    "    #si el jugador no acierta\n",
    "    else:\n",
    "        print(f\"Tu respuesta: {jugador}. \\n Respuesta incorrecta\")\n",
    "        incorrecta += 1\n",
    "\n",
    "\n",
    "print(\"------------------\")        \n",
    "print(\"El juego terminó!\")\n",
    "if correcta == 5:\n",
    "    print(f\"Enhorabuena {nombre}! Has ganado el juego.\")\n",
    "else:\n",
    "    print(f\"{nombre} has perdido. Mejor suerte la próxima vez.\")\n",
    "print(f\"Tu resultado es el siguiente: \\n Preguntas correctas: {correcta}. \\n Preguntas incorrectas: {incorrecta}.\")"
   ]
  }
 ],
 "metadata": {
  "kernelspec": {
   "display_name": "Python 3",
   "language": "python",
   "name": "python3"
  },
  "language_info": {
   "codemirror_mode": {
    "name": "ipython",
    "version": 3
   },
   "file_extension": ".py",
   "mimetype": "text/x-python",
   "name": "python",
   "nbconvert_exporter": "python",
   "pygments_lexer": "ipython3",
   "version": "3.11.5"
  }
 },
 "nbformat": 4,
 "nbformat_minor": 2
}
