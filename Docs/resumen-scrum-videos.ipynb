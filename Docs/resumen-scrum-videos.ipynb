{
 "cells": [
  {
   "cell_type": "markdown",
   "metadata": {},
   "source": [
    "# VIDEO 6 - SCRUM"
   ]
  },
  {
   "cell_type": "markdown",
   "metadata": {},
   "source": [
    "- Presentación del producto\n",
    "- Audiencia desconocida\n",
    "- Saber venderlo\n",
    "- Presentación del equipo\n",
    "- Story telling\n",
    "- Cuál es el producto, la necesidad que cubre\n",
    "- Cómo nos organizamos, cuáles fueron nuestros retos y logros\n",
    "- Explicaciones técnicas"
   ]
  },
  {
   "cell_type": "markdown",
   "metadata": {},
   "source": [
    "- Técnica del sándwich:\n",
    "\n",
    "- Lo que importa es lo de adentro pero no hay que desmerecer el pan.\n",
    "- Buen inicio y buen cierre"
   ]
  },
  {
   "cell_type": "markdown",
   "metadata": {},
   "source": [
    "1era parte:\n",
    "\n",
    "-Contar el qué: ciál es el producto, qué necesidades cubre, qué lo hace único comparado con otros productos que hay en el mercado.\n"
   ]
  },
  {
   "cell_type": "markdown",
   "metadata": {},
   "source": [
    "2da parte:\n",
    "\n",
    "- el cómo, organización, reparto de tareas, coordinación a la hora de trabajar, ¿trabajamos todas en el mismo código?\n",
    "- cuál tarea ha requerido más esfuerzo, qué parte nos pone más orgullosas. Aportaciones únicas y diferenciadoras de cada integrante del proyecto.\n",
    "- Presentar código\n",
    "- Funcionalidades y cómo lo conseguimos."
   ]
  },
  {
   "cell_type": "markdown",
   "metadata": {},
   "source": [
    "Cierre"
   ]
  },
  {
   "cell_type": "markdown",
   "metadata": {},
   "source": [
    "- Go to action \n",
    "- Que conozcan el producto, que lo prueben\n",
    "- Dar a conocer el trabajo\n",
    "- Forma de contacto \n",
    "- Dar las gracias a la audiencia"
   ]
  }
 ],
 "metadata": {
  "kernelspec": {
   "display_name": "Python 3",
   "language": "python",
   "name": "python3"
  },
  "language_info": {
   "name": "python",
   "version": "3.11.5"
  }
 },
 "nbformat": 4,
 "nbformat_minor": 2
}
