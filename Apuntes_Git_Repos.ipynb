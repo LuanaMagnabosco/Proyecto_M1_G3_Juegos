{
 "cells": [
  {
   "cell_type": "markdown",
   "metadata": {},
   "source": [
    "# Crear un repositorio en GitHub - \"new\" - nombre - Add a README file - create repositiry\n",
    "\n",
    "\n",
    "* Copiamos la direccion en Code;\n",
    "\n",
    "* Vamos a la terminal usamos en Mac 'ls' (enter) para saber donde estamos;\n",
    "\n",
    "--->    Usamos 'cd' + nombre de la carpeta que queremos ir (enter) para movernos entre carpetas;\n",
    "\n",
    "--->    Usamos '../' para retroceder;\n",
    "\n",
    "--->    Usamos 'git clone' y pegamos la URL del repo (enter);\n",
    "\n",
    "--->    Usamos 'git status' para vizualizar el cambio;\n",
    "\n",
    "* Abrimos en VS Code y empezamos a trabajar;\n",
    "\n",
    "* Para salvar todo lo que hicimos en los archivos en VS Code es comand + s;\n",
    "\n",
    "--->    Para adiccionar los cambiso al repo que está en nuestro ordenador 'git add --all' (enter);\n",
    "\n",
    "--->    Usamos 'git status' para vizualizar el cambio (enter);\n",
    "\n",
    "--->    para grabar los cambios 'commit -m' y dejar un mensaje entrecomillado diciendo lo que hemos hecho  (enter);\n",
    "\n",
    "--->    Usamos 'git status' para vizualizar el cambio;\n",
    "\n",
    "--->    Para subir al GitHub el repo con los cambios 'git push? (enter);\n",
    "\n",
    "--->    Usamos 'git status' para vizualizar el cambio;\n",
    "\n",
    "--->    Usamos el 'git pull' para descargar/actualizar los cambios hechos por las compis en el repo.\n",
    "\n",
    "# Siempre que nos aparece en rojo en los mensajes de status es que algo no va bien;\n",
    "\n",
    "# Cuando nos aparece en #verde  en los mensajes de status, es que en los cambios/comandos salieron bien.\n"
   ]
  },
  {
   "cell_type": "markdown",
   "metadata": {},
   "source": []
  }
 ],
 "metadata": {
  "language_info": {
   "name": "python"
  }
 },
 "nbformat": 4,
 "nbformat_minor": 2
}
