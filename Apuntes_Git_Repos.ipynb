{
 "cells": [
  {
   "cell_type": "markdown",
   "metadata": {},
   "source": [
    "Crear un repositorio en GitHub - \"new\" - nombre - Add a README file - create repositiry\n",
    "Copiamos la direccion en Code\n",
    "Vamos a la terminal usamos 'ls' (intro) para saber donde estamos\n",
    "Usamos 'cd' + nombre de la carpeta que queremos ir (intro) para movernos entre carpetas\n",
    "Usamos '../' para retroceder\n",
    "Usamos 'git clone' y pegamos la URL del repo (intro)\n",
    "Usamos 'git status' para vizualizar el cambio\n",
    "Abrimos en VS Code y empezamos a trabajar\n",
    "Para salvar es comand + s\n",
    "Para adiccionar los cambiso al repo que esta en nuestro ordenador 'git add --all' (intro)\n",
    "Usamos 'git status' para vizualizar el cambio\n",
    "para grabar los cambios 'commit -m' y dejar un mensaje entrecomillado diciendo lo que hemos hecho  (intro)\n",
    "Usamos 'git status' para vizualizar el cambio\n",
    "Para subir al GitHub el repo con los cambios 'git push? (intro)\n",
    "Usamos 'git status' para vizualizar el cambio\n",
    "Siempre que nos aparece en rojo en los mensajes de status es que algo no va bien\n",
    "Cuando nos aparece en verde en los mensajes del status, es que en los cambios/comandos salieron bien.\n"
   ]
  }
 ],
 "metadata": {
  "language_info": {
   "name": "python"
  }
 },
 "nbformat": 4,
 "nbformat_minor": 2
}
