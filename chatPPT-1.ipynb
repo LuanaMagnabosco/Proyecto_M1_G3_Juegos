{
 "cells": [
  {
   "cell_type": "code",
   "execution_count": null,
   "metadata": {},
   "outputs": [],
   "source": [
    "# Función para obtener la elección del jugador\n",
    "def obtener_eleccion():\n",
    "    eleccion = input(\"Elige piedra, papel o tijeras: \").lower()\n",
    "    while eleccion not in ['piedra', 'papel', 'tijeras']:\n",
    "        print(\"Elección inválida. Intenta de nuevo.\")\n",
    "        eleccion = input(\"Elige piedra, papel o tijeras: \").lower()\n",
    "    return eleccion\n",
    "\n",
    "# Función para determinar al ganador\n",
    "def determinar_ganador(jugador1, jugador2):\n",
    "    if jugador1 == jugador2:\n",
    "        return \"Empate\"\n",
    "    elif (jugador1 == 'piedra' and jugador2 == 'tijeras') or \\\n",
    "         (jugador1 == 'papel' and jugador2 == 'piedra') or \\\n",
    "         (jugador1 == 'tijeras' and jugador2 == 'papel'):\n",
    "        return \"Jugador 1\"\n",
    "    else:\n",
    "        return \"Jugador 2\"\n",
    "\n",
    "# Obtener la elección de cada jugador\n",
    "print(\"Jugador 1:\")\n",
    "eleccion_jugador1 = obtener_eleccion()\n",
    "\n",
    "print(\"Jugador 2:\")\n",
    "eleccion_jugador2 = obtener_eleccion()\n",
    "\n",
    "# Determinar al ganador\n",
    "ganador = determinar_ganador(eleccion_jugador1, eleccion_jugador2)\n",
    "\n",
    "# Mostrar el resultado\n",
    "print(\"¡El ganador es:\", ganador, \"!\")"
   ]
  }
 ],
 "metadata": {
  "language_info": {
   "name": "python"
  }
 },
 "nbformat": 4,
 "nbformat_minor": 2
}
