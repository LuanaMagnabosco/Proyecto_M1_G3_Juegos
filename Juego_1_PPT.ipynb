{
 "cells": [
  {
   "cell_type": "markdown",
   "metadata": {},
   "source": [
    "JUEGO 1: PIEDRA PAPEL TIJERA"
   ]
  },
  {
   "cell_type": "code",
   "execution_count": null,
   "metadata": {},
   "outputs": [],
   "source": [
    "jugador1 = input(\"Elige piedra, papel o tijera\")\n",
    "jugador2 = input(\"Elige piedra, papel o tijera\")"
   ]
  },
  {
   "cell_type": "code",
   "execution_count": null,
   "metadata": {},
   "outputs": [],
   "source": [
    "piedra > tijera\n",
    "piedra < papel\n",
    "piedra == piedra\n",
    "\n",
    "tijera > papel\n",
    "tijera < piedra\n",
    "tijera == tijera\n",
    "\n",
    "papel < tijera\n",
    "papel > piedra\n",
    "papel == papel"
   ]
  }
 ],
 "metadata": {
  "language_info": {
   "name": "python"
  }
 },
 "nbformat": 4,
 "nbformat_minor": 2
}
