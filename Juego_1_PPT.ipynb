{
 "cells": [
  {
   "cell_type": "markdown",
   "metadata": {},
   "source": [
    "JUEGO 1: PIEDRA PAPEL TIJERA"
   ]
  },
  {
   "cell_type": "code",
   "execution_count": null,
   "metadata": {},
   "outputs": [],
   "source": [
    "jugador1 = input(\"Elige piedra, papel o tijera\")\n",
    "jugador2 = input(\"Elige piedra, papel o tijera\")"
   ]
  },
  {
   "cell_type": "markdown",
   "metadata": {},
   "source": [
    "piedra > tijera\n",
    "piedra < papel\n",
    "piedra == piedra\n",
    "\n",
    "tijera > papel\n",
    "tijera < piedra\n",
    "tijera == tijera\n",
    "\n",
    "papel < tijera\n",
    "papel > piedra\n",
    "papel == papel"
   ]
  },
  {
   "cell_type": "code",
   "execution_count": null,
   "metadata": {},
   "outputs": [],
   "source": [
    "# WHILE QUE NO ANDA"
   ]
  },
  {
   "cell_type": "code",
   "execution_count": 2,
   "metadata": {},
   "outputs": [
    {
     "name": "stdout",
     "output_type": "stream",
     "text": [
      "Empate\n",
      "Empate\n",
      "Empate\n",
      "jugador2 es el ganador de esta partida\n",
      "Empate\n",
      "Empate\n",
      "Empate\n",
      "Empate\n"
     ]
    }
   ],
   "source": [
    "\n",
    "#cantidad de partidas\n",
    "juegos = 3\n",
    "contador = 0\n",
    "puntos_jugador1 = 0\n",
    "puntos_jugador2 = 0\n",
    "juego = True\n",
    "\n",
    "while contador <= 3:\n",
    "    jugador1 = input(\"Jugador1: Elige piedra, papel o tijera\")\n",
    "    jugador2 = input(\"Jugador2: Elige piedra, papel o tijera\")\n",
    "    if jugador1 == jugador2:\n",
    "        print(\"Empate\")\n",
    "        juegos += 1\n",
    "    elif (jugador1 == \"piedra\" and jugador2 == \"tijeras\") or (jugador1 == 'papel' and jugador2 == \"piedra\") or (jugador1 == 'tijeras' and jugador2 == \"papel\"):\n",
    "        puntos_jugador1 += 1\n",
    "        juegos += 1   \n",
    "        print(\"jugador 1 es el ganador de esta partida\")\n",
    "    else: \n",
    "        puntos_jugador2 += 1\n",
    "        juegos += 1\n",
    "        print(\"jugador2 es el ganador de esta partida\")    \n",
    "    juegos = 3\n",
    "    juego = False\n",
    "        "
   ]
  },
  {
   "cell_type": "code",
   "execution_count": null,
   "metadata": {},
   "outputs": [],
   "source": [
    "# WHILE QUE SI ANDA"
   ]
  },
  {
   "cell_type": "code",
   "execution_count": null,
   "metadata": {},
   "outputs": [],
   "source": [
    "# QUEDA QUE SUMEN PUNTAJE CADA JUGADOR PARA QUE VEAN CUANTAS GANO CADA UNO"
   ]
  },
  {
   "cell_type": "code",
   "execution_count": 10,
   "metadata": {},
   "outputs": [
    {
     "name": "stdout",
     "output_type": "stream",
     "text": [
      "Empate\n",
      "Partida ganada por jufador 1\n",
      "partida ganada por jugador1\n"
     ]
    }
   ],
   "source": [
    "#cantidad de jugadas, iniciar en 0 para que vaya sumando en jugadas +1 y llegue a 3 para que corte\n",
    "jugadas = 0\n",
    "\n",
    "#mientras jugadas sean MENOS que 3, inicia el bucle\n",
    "#cuando llega a 3 jugadas/partidas/manos CORTA\n",
    "while jugadas < 3:\n",
    "    jugador1 = input(\"Elige entre piedra, papel o tijera\")\n",
    "    jugador2 = input(\"Elige entre piedra, papel o tijera\")\n",
    "    if jugador1 == jugador2:\n",
    "        print(\"Empate\")\n",
    "        #suma 1 jugada\n",
    "        jugadas  += 1\n",
    "    elif jugador1 == \"piedra\" and jugador2 == \"papel\":\n",
    "        print(\"Partida ganada por jugador2\")\n",
    "        #suma 1 jugada\n",
    "        jugadas += 1\n",
    "    elif jugador2 == \"piedra\" and jugador1 == \"papel\":\n",
    "        print(\"Partida ganada por jugador 1\")\n",
    "        #suma 1 jugada\n",
    "        jugadas += 1\n",
    "    elif jugador1 == \"piedra\" and jugador2 == \"tijera\":\n",
    "        print(\"Partida gnada por jugador1\")\n",
    "        #suma 1 jugada\n",
    "        jugadas +=1\n",
    "    elif jugador2 == \"piedra\" and jugador1 == \"tijera\":\n",
    "        print(\"partida ganada por jugador2\")\n",
    "        #suma 1 jugada\n",
    "        jugadas += 1\n",
    "    elif jugador1 == \"papel\" and jugador2 == \"tijera\":\n",
    "        print(\"Partida ganada por jugador2\")\n",
    "        #suma 1 jugada\n",
    "        jugadas += 1\n",
    "    elif jugador2 == \"papel\" and jugador1 == \"tijera\":\n",
    "        print(\"partida ganada por jugador1\")\n",
    "        #suma 1 jugada\n",
    "        jugadas += 1\n",
    "        "
   ]
  }
 ],
 "metadata": {
  "kernelspec": {
   "display_name": "Python 3",
   "language": "python",
   "name": "python3"
  },
  "language_info": {
   "codemirror_mode": {
    "name": "ipython",
    "version": 3
   },
   "file_extension": ".py",
   "mimetype": "text/x-python",
   "name": "python",
   "nbconvert_exporter": "python",
   "pygments_lexer": "ipython3",
   "version": "3.11.5"
  }
 },
 "nbformat": 4,
 "nbformat_minor": 2
}
