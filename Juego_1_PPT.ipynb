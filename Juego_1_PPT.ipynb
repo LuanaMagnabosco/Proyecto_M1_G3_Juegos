{
 "cells": [
  {
   "cell_type": "markdown",
   "metadata": {},
   "source": [
    "JUEGO 1: PIEDRA PAPEL TIJERA"
   ]
  },
  {
   "cell_type": "code",
   "execution_count": null,
   "metadata": {},
   "outputs": [],
   "source": [
    "jugador1 = input(\"Elige piedra, papel o tijera\")\n",
    "jugador2 = input(\"Elige piedra, papel o tijera\")"
   ]
  },
  {
   "cell_type": "markdown",
   "metadata": {},
   "source": [
    "piedra > tijera\n",
    "piedra < papel\n",
    "piedra == piedra\n",
    "\n",
    "tijera > papel\n",
    "tijera < piedra\n",
    "tijera == tijera\n",
    "\n",
    "papel < tijera\n",
    "papel > piedra\n",
    "papel == papel"
   ]
  },
  {
   "cell_type": "code",
   "execution_count": null,
   "metadata": {},
   "outputs": [],
   "source": [
    "cero = \"piedra\"\n",
    "uno = \"papel\"\n",
    "dos = \"tijera\"\n",
    "\n",
    "\n",
    "if jugador1 == \"piedra\" and jugador2 == \"papel\":\n",
    "    "
   ]
  },
  {
   "cell_type": "code",
   "execution_count": null,
   "metadata": {},
   "outputs": [],
   "source": [
    "jugadas = [\"piedra\", \"papel\", \"tijera\"]\n",
    "resultados = {\n",
    "    \"piedra\": {\"piedra\": \"Empate\", \"papel\": \"Pierde\", \"tijera\": \"Gana\"},\n",
    "    \"papel\": {\"piedra\": \"Gana\", \"papel\": \"Empate\", \"tijera\": \"Pierde\"},\n",
    "    \"tijera\": {\"piedra\": \"Pierde\", \"papel\": \"Gana\", \"tijera\": \"Empate\"},\n",
    "}\n",
    "\n",
    "#cantidad de partidas\n",
    "juegos = 3\n",
    "contador = 0\n",
    "puntos_jugador1 = 0\n",
    "puntos_jugador2 = 0\n",
    "\n",
    "\n"
   ]
  },
  {
   "cell_type": "code",
   "execution_count": 2,
   "metadata": {},
   "outputs": [
    {
     "name": "stdout",
     "output_type": "stream",
     "text": [
      "Empate\n",
      "Empate\n",
      "Empate\n",
      "jugador2 es el ganador de esta partida\n",
      "Empate\n",
      "Empate\n",
      "Empate\n",
      "Empate\n"
     ]
    }
   ],
   "source": [
    "\n",
    "#cantidad de partidas\n",
    "juegos = 3\n",
    "contador = 0\n",
    "puntos_jugador1 = 0\n",
    "puntos_jugador2 = 0\n",
    "juego = True\n",
    "\n",
    "while contador <= 3:\n",
    "    jugador1 = input(\"Jugador1: Elige piedra, papel o tijera\")\n",
    "    jugador2 = input(\"Jugador2: Elige piedra, papel o tijera\")\n",
    "    if jugador1 == jugador2:\n",
    "        print(\"Empate\")\n",
    "        juegos += 1\n",
    "    elif (jugador1 == \"piedra\" and jugador2 == \"tijeras\") or (jugador1 == 'papel' and jugador2 == \"piedra\") or (jugador1 == 'tijeras' and jugador2 == \"papel\"):\n",
    "        puntos_jugador1 += 1\n",
    "        juegos += 1   \n",
    "        print(\"jugador 1 es el ganador de esta partida\")\n",
    "    else: \n",
    "        puntos_jugador2 += 1\n",
    "        juegos += 1\n",
    "        print(\"jugador2 es el ganador de esta partida\")    \n",
    "    juegos = 3\n",
    "    juego = False\n",
    "        "
   ]
  },
  {
   "cell_type": "code",
   "execution_count": null,
   "metadata": {},
   "outputs": [],
   "source": []
  },
  {
   "cell_type": "code",
   "execution_count": null,
   "metadata": {},
   "outputs": [],
   "source": [
    "\n",
    "\n",
    "if jugador1 == jugador2:\n",
    "    return \"Empate\"\n",
    "elif (jugador1 == 'piedra' and jugador2 == 'tijeras') or \\\n",
    "    (jugador1 == 'papel' and jugador2 == 'piedra') or \\\n",
    "    (jugador1 == 'tijeras' and jugador2 == 'papel'):\n",
    "    return \"Jugador 1\"\n",
    "else:\n",
    "    return \"Jugador 2\""
   ]
  },
  {
   "cell_type": "code",
   "execution_count": null,
   "metadata": {},
   "outputs": [],
   "source": [
    "def determinar_ganador(jugador1, jugador2):\n",
    "    if jugador1 == jugador2:\n",
    "        return \"Empate\"\n",
    "    elif (jugador1 == 'piedra' and jugador2 == 'tijeras') or \\\n",
    "         (jugador1 == 'papel' and jugador2 == 'piedra') or \\\n",
    "         (jugador1 == 'tijeras' and jugador2 == 'papel'):\n",
    "        return \"Jugador 1\"\n",
    "    else:\n",
    "        return \"Jugador 2\""
   ]
  }
 ],
 "metadata": {
  "kernelspec": {
   "display_name": "Python 3",
   "language": "python",
   "name": "python3"
  },
  "language_info": {
   "codemirror_mode": {
    "name": "ipython",
    "version": 3
   },
   "file_extension": ".py",
   "mimetype": "text/x-python",
   "name": "python",
   "nbconvert_exporter": "python",
   "pygments_lexer": "ipython3",
   "version": "3.11.5"
  }
 },
 "nbformat": 4,
 "nbformat_minor": 2
}
