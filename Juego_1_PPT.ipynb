{
 "cells": [
  {
   "cell_type": "markdown",
   "metadata": {},
   "source": [
    "## JUEGO 1: PIEDRA PAPEL TIJERA"
   ]
  },
  {
   "cell_type": "code",
   "execution_count": 4,
   "metadata": {},
   "outputs": [
    {
     "name": "stdout",
     "output_type": "stream",
     "text": [
      "franca eligió piedra\n",
      "nahuel eligió papel\n",
      "Partida ganada por nahuel\n",
      "franca eligió piedra\n",
      "nahuel eligió papel\n",
      "Partida ganada por nahuel\n",
      "franca eligió piedra\n",
      "nahuel eligió papel\n",
      "Partida ganada por nahuel\n",
      "El juego acabó! El puntaje es el siguiente: \n",
      "\n",
      "franca: 0\n",
      "nahuel: 3\n",
      "El ganador es nahuel\n"
     ]
    }
   ],
   "source": [
    "#ingresar nombres de jugadores\n",
    "nombre1 = input(\"Ingresa tu nombre: \")\n",
    "nombre2 = input(\"Ingresa tu nombre: \")\n",
    "\n",
    "#variable opciones para el while que verifica si se escribiò correctamente piedra-papel-tijera\n",
    "opciones = [\"piedra\", \"papel\", \"tijera\"]\n",
    "\n",
    "#variables para guardar los puntajes de cada jugador\n",
    "puntaje_jugador1 = 0\n",
    "puntaje_jugador2 = 0\n",
    "\n",
    "\n",
    "#mientras ningun jugador sume 3 puntos, entra al bucle, cuando alguno cumpla 3 victorias, se termina\n",
    "while (puntaje_jugador1 < 3) and (puntaje_jugador2 < 3):\n",
    "    #eleccion de piedra, papel o tijera\n",
    "    jugador1 = input(\"Elige entre piedra, papel o tijera\").lower()\n",
    "    jugador2 = input(\"Elige entre piedra, papel o tijera\").lower()\n",
    "    \n",
    "    #si ingresa una opción inválida, se le vuelve a pedir que ingrese piedra, papel o tijera\n",
    "    while jugador1 not in opciones or jugador2 not in opciones:\n",
    "        if jugador1 not in opciones: \n",
    "            jugador1 = input(f\"{nombre1},opcion inválida, vuelve a intentarlo elige entre piedra, papel o tijera\").lower()\n",
    "        elif jugador2 not in opciones:\n",
    "            jugador2 = input(f\"{nombre2}, opcion inválida, vuelve a intentarlo elige entre piedra, papel o tijera\").lower()\n",
    "        \n",
    "    #comparaciones\n",
    "    if jugador1 == jugador2:\n",
    "        print(\"Empate\")\n",
    "    elif jugador1 == \"piedra\" and jugador2 == \"papel\":\n",
    "     print(f\"{nombre1} eligió piedra\")\n",
    "     print(f\"{nombre2} eligió papel\")\n",
    "     print(f\"Partida ganada por {nombre2}\")\n",
    "     #suma puntaje a quien corresponda\n",
    "     puntaje_jugador2 += 1\n",
    "    elif jugador2 == \"piedra\" and jugador1 == \"papel\":\n",
    "        print(f\"{nombre1} eligió papel\")\n",
    "        print(f\"{nombre2} eligió piedra\")\n",
    "        print(f\"Partida ganada por {nombre1}\")\n",
    "        #suma puntaje a quien corresponda\n",
    "        puntaje_jugador1 += 1\n",
    "    elif jugador1 == \"piedra\" and jugador2 == \"tijera\":\n",
    "        print(f\"{nombre1} eligió piedra\")\n",
    "        print(f\"{nombre2} eligió tijera\")\n",
    "        print(f\"Partida gnada por {nombre1}\")\n",
    "        #suma puntaje a quien corresponda\n",
    "        puntaje_jugador1 += 1\n",
    "    elif jugador2 == \"piedra\" and jugador1 == \"tijera\":\n",
    "        print(f\"{nombre1} eligió tijera\")\n",
    "        print(f\"{nombre2} eligió piedra\")\n",
    "        print(f\"partida ganada por {nombre2}\")\n",
    "        #suma puntaje a quien corresponda\n",
    "        puntaje_jugador2 += 1\n",
    "    elif jugador1 == \"papel\" and jugador2 == \"tijera\":\n",
    "        print(f\"{nombre1} eligió papel\")\n",
    "        print(f\"{nombre2} eligió tijera\")\n",
    "        print(f\"Partida ganada por {nombre2}\")\n",
    "        #suma puntaje a quien corresponda\n",
    "        puntaje_jugador2 += 1\n",
    "    elif jugador2 == \"papel\" and jugador1 == \"tijera\":\n",
    "        print(f\"{nombre1} eligió tijera\")\n",
    "        print(f\"{nombre2} eligió papel\")\n",
    "        print(f\"partida ganada por {nombre1}\")\n",
    "        #suma puntaje a quien corresponda\n",
    "        puntaje_jugador1 += 1\n",
    "        \n",
    "#mensaje de fin del juego\n",
    "     \n",
    "print(\"El juego acabó! El puntaje es el siguiente: \\n\")\n",
    "print(f\"{nombre1}: {puntaje_jugador1}\")\n",
    "print(f\"{nombre2}: {puntaje_jugador2}\")\n",
    "\n",
    "\n",
    "#comparación de puntajes para saber el ganador\n",
    "if puntaje_jugador1 > puntaje_jugador2:\n",
    "    print(f\"El ganador es {nombre1}\")\n",
    "else:\n",
    "    print(f\"El ganador es {nombre2}\")\n",
    "        "
   ]
  }
 ],
 "metadata": {
  "kernelspec": {
   "display_name": "Python 3",
   "language": "python",
   "name": "python3"
  },
  "language_info": {
   "codemirror_mode": {
    "name": "ipython",
    "version": 3
   },
   "file_extension": ".py",
   "mimetype": "text/x-python",
   "name": "python",
   "nbconvert_exporter": "python",
   "pygments_lexer": "ipython3",
   "version": "3.11.5"
  }
 },
 "nbformat": 4,
 "nbformat_minor": 2
}
